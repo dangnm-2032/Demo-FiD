{
 "cells": [
  {
   "cell_type": "code",
   "execution_count": 2,
   "metadata": {},
   "outputs": [
    {
     "name": "stderr",
     "output_type": "stream",
     "text": [
      "Asking to truncate to max_length but no maximum length is provided and the model has no predefined maximum length. Default to no truncation.\n"
     ]
    },
    {
     "name": "stdout",
     "output_type": "stream",
     "text": [
      "[2, 11776, 3]\n",
      " Xin chào , chúng_tôi là sinh_viên đại_học Công_nghệ_thực_phẩm . Ông Nguyễn_Khắc_Chúc đang làm_việc tại Đại_học Quốc_gia Hà_Nội . Bà Lan , vợ ông Chúc , cũng làm_việc tại đây .\n"
     ]
    }
   ],
   "source": [
    "from transformers import AutoTokenizer, AutoModelForTokenClassification\n",
    "from transformers import pipeline\n",
    "\n",
    "class WordSegmentor:\n",
    "    def __init__(self) -> None:\n",
    "        tokenizer = AutoTokenizer.from_pretrained(\"NlpHUST/vi-word-segmentation\")\n",
    "        model = AutoModelForTokenClassification.from_pretrained(\"NlpHUST/vi-word-segmentation\")\n",
    "        self.pipeline = pipeline(\"token-classification\", model=model, tokenizer=tokenizer)\n",
    "\n",
    "    def segment(self, input):\n",
    "        ner_results = self.pipeline(input)\n",
    "        example_tok = \"\"\n",
    "        for e in ner_results:\n",
    "            if \"##\" in e[\"word\"]:\n",
    "                example_tok = example_tok + e[\"word\"].replace(\"##\",\"\")\n",
    "            elif e[\"entity\"] ==\"I\":\n",
    "                example_tok = example_tok + \"_\" + e[\"word\"]\n",
    "            else:\n",
    "                example_tok = example_tok + \" \" + e[\"word\"]\n",
    "\n",
    "        return example_tok\n",
    "\n",
    "if __name__ == \"__main__\":\n",
    "    segmentor = WordSegmentor()\n",
    "    print(segmentor.segment(\"Xin chào, chúng tôi là sinh viên đại học Công nghệ thực phẩm. Ông Nguyễn Khắc Chúc  đang làm việc tại Đại học Quốc gia Hà Nội. Bà Lan, vợ ông Chúc, cũng làm việc tại đây.\"))"
   ]
  },
  {
   "cell_type": "code",
   "execution_count": 3,
   "metadata": {},
   "outputs": [],
   "source": [
    "import re"
   ]
  },
  {
   "cell_type": "code",
   "execution_count": 6,
   "metadata": {},
   "outputs": [
    {
     "data": {
      "text/plain": [
       "['đích gì . Đây là các thông',\n",
       " 'tin cơ',\n",
       " 'bản nhất không phải từ quy',\n",
       " 'trình và công',\n",
       " 'cụ Dù quy',\n",
       " 'trình và công Triết',\n",
       " 'lý của Scrum là gì ? Scrum được xây',\n",
       " 'dựng dựa trên lý',\n",
       " 'thuyết quản',\n",
       " 'lý tiến',\n",
       " 'trình thực',\n",
       " 'nghiệm , hay “ thực',\n",
       " 'nghiệm',\n",
       " 'luận ” ( empiricism hay “ duy',\n",
       " 'nghiệm ” ) Lý',\n",
       " 'thuyết này chỉ ra rằng tri',\n",
       " 'thức đếnHanoi',\n",
       " 'Scrum - User',\n",
       " 'Story là gì ? mà nhóm phát',\n",
       " 'triển cần biết để có',\n",
       " 'thể thực',\n",
       " 'hiện công',\n",
       " 'việc của mình . Không',\n",
       " 'chỉ phục',\n",
       " 'vụ cho việc thể',\n",
       " 'hiện chính',\n",
       " 'xác nhu',\n",
       " 'cầu của người dùng , User',\n",
       " 'Story còn là công',\n",
       " 'cụ để triển',\n",
       " 'khai việc kiểm',\n",
       " 'thử chấp',\n",
       " 'nhận ( acceptance',\n",
       " 'test ) . Khi đó , User',\n",
       " 'Story có',\n",
       " 'thể thêm điều',\n",
       " 'kiện kiểm',\n",
       " 'thử chấp',\n",
       " 'nhận Ví',\n",
       " 'dụ : Là quản',\n",
       " 'trị của diễn',\n",
       " 'đàn , tôi muốn xóa một người',\n",
       " 'dùng phạm',\n",
       " 'quy để tránh di',\n",
       " 'hại về sau cho diễn',\n",
       " 'đàn . Sau khi xóa xong , người',\n",
       " 'dùng không',\n",
       " 'thể truy',\n",
       " 'xuất hệ',\n",
       " 'thống sử',\n",
       " 'dụng tài',\n",
       " 'khoản đã xóa , các bài viết của người này trên diễn',\n",
       " 'đàn cũng bị hủy khỏi diễn',\n",
       " 'đàn . Cách viết này giúp người dùng hoặc một thành',\n",
       " 'viên bất',\n",
       " 'kì của nhóm phát',\n",
       " 'triển có',\n",
       " 'thể kiểm',\n",
       " 'tra xem chức',\n",
       " 'năng làm ra có thỏa',\n",
       " 'mãn người dùng']"
      ]
     },
     "execution_count": 6,
     "metadata": {},
     "output_type": "execute_result"
    }
   ],
   "source": [
    "re.split(r\"_\", text)"
   ]
  },
  {
   "cell_type": "code",
   "execution_count": 4,
   "metadata": {},
   "outputs": [
    {
     "data": {
      "text/plain": [
       "'đích gì . Đây là các thôn in c ản nhất không phải từ qu rình và côn ụ Dù qu rình và công Triế ý của Scrum là gì ? Scrum được xâ ựng dựa trên l huyết quả ý tiế rình thự ghiệm , hay “ thự ghiệ uận ” ( empiricism hay “ du ghiệm ” ) L huyết này chỉ ra rằng tr hức đếnHano crum - Use tory là gì ? mà nhóm phá riển cần biết để c hể thự iện côn iệc của mình . Khôn hỉ phụ ụ cho việc th iện chín ác nh ầu của người dùng , Use tory còn là côn ụ để triể hai việc kiể hử chấ hận ( acceptanc est ) . Khi đó , Use tory c hể thêm điề iện kiể hử chấ hận V ụ : Là quả rị của diễ àn , tôi muốn xóa một ngườ ùng phạ uy để tránh d ại về sau cho diễ àn . Sau khi xóa xong , ngườ ùng khôn hể tru uất h hống s ụng tà hoản đã xóa , các bài viết của người này trên diễ àn cũng bị hủy khỏi diễ àn . Cách viết này giúp người dùng hoặc một thàn iên bấ ì của nhóm phá riển c hể kiể ra xem chứ ăng làm ra có thỏ ãn người dùng'"
      ]
     },
     "execution_count": 4,
     "metadata": {},
     "output_type": "execute_result"
    }
   ],
   "source": [
    "text = \"\"\"đích gì . Đây là các thông_tin cơ_bản nhất không phải từ quy_trình và công_cụ Dù quy_trình và công Triết_lý của Scrum là gì ? Scrum được xây_dựng dựa trên lý_thuyết quản_lý tiến_trình thực_nghiệm , hay “ thực_nghiệm_luận ” ( empiricism hay “ duy_nghiệm ” ) Lý_thuyết này chỉ ra rằng tri_thức đếnHanoi_Scrum - User_Story là gì ? mà nhóm phát_triển cần biết để có_thể thực_hiện công_việc của mình . Không_chỉ phục_vụ cho việc thể_hiện chính_xác nhu_cầu của người dùng , User_Story còn là công_cụ để triển_khai việc kiểm_thử chấp_nhận ( acceptance_test ) . Khi đó , User_Story có_thể thêm điều_kiện kiểm_thử chấp_nhận Ví_dụ : Là quản_trị của diễn_đàn , tôi muốn xóa một người_dùng phạm_quy để tránh di_hại về sau cho diễn_đàn . Sau khi xóa xong , người_dùng không_thể truy_xuất hệ_thống sử_dụng tài_khoản đã xóa , các bài viết của người này trên diễn_đàn cũng bị hủy khỏi diễn_đàn . Cách viết này giúp người dùng hoặc một thành_viên bất_kì của nhóm phát_triển có_thể kiểm_tra xem chức_năng làm ra có thỏa_mãn người dùng\"\"\"\n",
    "\n",
    "re.sub(r\"\\w(_)\\w\", \" \", text)"
   ]
  }
 ],
 "metadata": {
  "kernelspec": {
   "display_name": "Python 3",
   "language": "python",
   "name": "python3"
  },
  "language_info": {
   "codemirror_mode": {
    "name": "ipython",
    "version": 3
   },
   "file_extension": ".py",
   "mimetype": "text/x-python",
   "name": "python",
   "nbconvert_exporter": "python",
   "pygments_lexer": "ipython3",
   "version": "3.10.12"
  }
 },
 "nbformat": 4,
 "nbformat_minor": 2
}
